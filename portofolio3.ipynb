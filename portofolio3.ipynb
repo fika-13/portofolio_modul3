{
 "cells": [
  {
   "cell_type": "markdown",
   "id": "4f18b0c5",
   "metadata": {},
   "source": [
    "# Daily Temperature Forecasting Analysis for Wedding Planners to Optimize Event Planning"
   ]
  },
  {
   "cell_type": "markdown",
   "id": "0cab2878",
   "metadata": {},
   "source": [
    "#### Context\n",
    "Perubahan iklim dan variabilitas cuaca berdampak signifikan pada keberhasilan acara pernikahan, terutama yang diselenggarakan di lokasi outdoor. Anita Weddings, sebuah Wedding Organizer skala menengah di Jakarta, menghadapi tantangan dalam merencanakan acara pernikahan indoor dan outdoor akibat variabilitas suhu. Dengan data iklim dari API, Anita Weddings ingin membangun model prediksi suhu harian untuk mendukung pengambilan keputusan lokasi dan kebutuhan perlengkapan acara.\n",
    "\n",
    "#### Problem Statement\n",
    "\n",
    "Bagaimana membangun model prediksi suhu harian berdasarkan data iklim agar Anita Weddings dapat menentukan lokasi dan perlengkapan acara yang sesuai?\n",
    "\n",
    "#### Goals\n",
    "\n",
    "- Memperkirakan suhu harian guna mendukung keputusan lokasi acara (indoor/outdoor).\n",
    "- Mengoptimalkan persiapan perlengkapan seperti tenda, kipas angin, atau pemanas ruangan.\n",
    "- Mengurangi risiko gangguan akibat perubahan suhu yang tidak terduga.\n",
    "\n",
    "#### Analytic Approach\n",
    "\n",
    "Dalam pendekatan ini, analisis dilakukan untuk menemukan pola dari variabel iklim seperti kelembaban, kecepatan angin, tekanan udara, dan lainnya dalam hubungannya dengan suhu. Model regresi kemudian dibangun untuk memprediksi suhu berdasarkan fitur-fitur tersebut, yang dapat digunakan untuk mendukung perencanaan acara oleh Anita Weddings.\n",
    "\n",
    "#### Metric Evaluation\n",
    "\n",
    "Evaluasi model dilakukan menggunakan metrik RMSE dan MAE, yang mengukur seberapa besar rata-rata kesalahan prediksi terhadap nilai suhu sebenarnya. Nilai RMSE dan MAE yang lebih kecil menunjukkan performa model yang lebih baik. Selain itu, R² digunakan untuk mengukur seberapa baik model menjelaskan variansi suhu berdasarkan fitur iklim yang tersedia."
   ]
  },
  {
   "cell_type": "code",
   "execution_count": 2,
   "id": "84808ddd",
   "metadata": {},
   "outputs": [],
   "source": [
    "# Library\n",
    "\n",
    "import requests\n",
    "\n",
    "import numpy as np\n",
    "import pandas as pd\n",
    "\n",
    "import matplotlib.pyplot as plt\n",
    "import seaborn as sns\n",
    "\n",
    "from scipy.stats import shapiro\n",
    "\n",
    "from sklearn.model_selection import train_test_split, KFold, cross_val_score, GridSearchCV\n",
    "\n",
    "from sklearn.pipeline import Pipeline\n",
    "from sklearn.base import BaseEstimator, TransformerMixin\n",
    "from sklearn.preprocessing import RobustScaler, OneHotEncoder\n",
    "from sklearn.compose import ColumnTransformer\n",
    "\n",
    "from sklearn.linear_model import LinearRegression, Ridge, Lasso\n",
    "from sklearn.tree import DecisionTreeRegressor\n",
    "from sklearn.ensemble import RandomForestRegressor\n",
    "from sklearn.neighbors import KNeighborsRegressor\n",
    "from xgboost.sklearn import XGBRegressor\n",
    "\n",
    "from sklearn.metrics import mean_absolute_error, mean_squared_error, r2_score\n",
    "\n",
    "import pickle"
   ]
  },
  {
   "cell_type": "code",
   "execution_count": 3,
   "id": "ffd2bcb8",
   "metadata": {},
   "outputs": [],
   "source": [
    "# # Tarik data dari API\n",
    "# api_key = 'b1691a505e87332f5a46e9a9ca4ad99d'\n",
    "# cities = ['Jakarta', 'Bogor', 'Depok', 'Tangerang', 'Bekasi']\n",
    "# all_data = []\n",
    "\n",
    "# for city in cities:\n",
    "#     url = f\"http://api.openweathermap.org/data/2.5/forecast?q={city}&appid={api_key}&units=metric\"\n",
    "#     response = requests.get(url).json()\n",
    "#     # ekstrak data sesuai kebutuhan, misal list forecast\n",
    "#     city_data = response['list']\n",
    "#     for entry in city_data:\n",
    "#         entry['city'] = city  # tambahkan kolom kota untuk identifikasi\n",
    "#         all_data.append(entry)\n",
    "\n",
    "# all_data"
   ]
  },
  {
   "cell_type": "code",
   "execution_count": 4,
   "id": "25dc8412",
   "metadata": {},
   "outputs": [],
   "source": [
    "# # Ekstrak ke df\n",
    "# records = []\n",
    "\n",
    "# for item in all_data:\n",
    "#     city = item['city'] \n",
    "#     dt_txt = item['dt_txt']\n",
    "#     temp = item['main']['temp']\n",
    "#     humidity = item['main']['humidity']\n",
    "#     pressure = item['main']['pressure']\n",
    "#     wind_speed = item['wind']['speed']\n",
    "#     weather_desc = item['weather'][0]['description']\n",
    "\n",
    "#     records.append({\n",
    "#         'city': city,\n",
    "#         'datetime': dt_txt,\n",
    "#         'temp': temp,\n",
    "#         'humidity': humidity,\n",
    "#         'pressure': pressure,\n",
    "#         'wind_speed': wind_speed,\n",
    "#         'weather_desc': weather_desc\n",
    "#     })\n",
    "\n",
    "# df = pd.DataFrame(records)\n",
    "# df"
   ]
  },
  {
   "cell_type": "code",
   "execution_count": 5,
   "id": "2c48ff34",
   "metadata": {},
   "outputs": [],
   "source": [
    "# # Cek datatype\n",
    "# df.info()"
   ]
  },
  {
   "cell_type": "code",
   "execution_count": 6,
   "id": "587d8061",
   "metadata": {},
   "outputs": [],
   "source": [
    "# # Ubah dtype object ke datetime\n",
    "# df['datetime'] = pd.to_datetime(df['datetime'])"
   ]
  },
  {
   "cell_type": "code",
   "execution_count": 7,
   "id": "e0c75bd3",
   "metadata": {},
   "outputs": [],
   "source": [
    "# # Tambah fitur waktu hour dan weekday\n",
    "# df['hour'] = df['datetime'].dt.hour\n",
    "# df['weekday'] = df['datetime'].dt.dayofweek  # Senin=0, Minggu=6\n",
    "# df"
   ]
  },
  {
   "cell_type": "code",
   "execution_count": 8,
   "id": "d260f56f",
   "metadata": {},
   "outputs": [],
   "source": [
    "# # Cek unique value\n",
    "# listCat = []\n",
    "# for col in df.columns:\n",
    "#     listCat.append([\n",
    "#         col,\n",
    "#         df[col].dtype,\n",
    "#         df[col].isnull().sum(),\n",
    "#         df[col].nunique(),\n",
    "#         list(df[col].drop_duplicates().values),\n",
    "#         df[col].value_counts().to_dict()\n",
    "#     ])\n",
    "\n",
    "# dfCatDesc = pd.DataFrame(columns=['Column', 'Data Type', 'Missing Count', 'Unique Count', 'Unique Values', 'Value Count'],\n",
    "#                          data=listCat)\n",
    "# dfCatDesc"
   ]
  },
  {
   "cell_type": "code",
   "execution_count": 9,
   "id": "0d17200e",
   "metadata": {},
   "outputs": [],
   "source": [
    "# # Simpan data ke csv\n",
    "# df.to_csv('weather_jabodetabek_forecast.csv', index=False)"
   ]
  },
  {
   "cell_type": "code",
   "execution_count": 10,
   "id": "91edd71a",
   "metadata": {},
   "outputs": [
    {
     "data": {
      "application/vnd.microsoft.datawrangler.viewer.v0+json": {
       "columns": [
        {
         "name": "index",
         "rawType": "int64",
         "type": "integer"
        },
        {
         "name": "city",
         "rawType": "object",
         "type": "string"
        },
        {
         "name": "datetime",
         "rawType": "object",
         "type": "string"
        },
        {
         "name": "temp",
         "rawType": "float64",
         "type": "float"
        },
        {
         "name": "humidity",
         "rawType": "int64",
         "type": "integer"
        },
        {
         "name": "pressure",
         "rawType": "int64",
         "type": "integer"
        },
        {
         "name": "wind_speed",
         "rawType": "float64",
         "type": "float"
        },
        {
         "name": "weather_desc",
         "rawType": "object",
         "type": "string"
        },
        {
         "name": "hour",
         "rawType": "int64",
         "type": "integer"
        },
        {
         "name": "weekday",
         "rawType": "int64",
         "type": "integer"
        }
       ],
       "ref": "88afe1a9-3557-4b7c-bec1-d5480d4ce030",
       "rows": [
        [
         "0",
         "Jakarta",
         "2025-05-20 18:00:00",
         "29.79",
         "71",
         "1009",
         "2.04",
         "broken clouds",
         "18",
         "1"
        ],
        [
         "1",
         "Jakarta",
         "2025-05-20 21:00:00",
         "30.86",
         "76",
         "1008",
         "1.58",
         "light rain",
         "21",
         "1"
        ],
        [
         "2",
         "Jakarta",
         "2025-05-21 00:00:00",
         "31.71",
         "81",
         "1009",
         "1.4",
         "light rain",
         "0",
         "2"
        ],
        [
         "3",
         "Jakarta",
         "2025-05-21 03:00:00",
         "33.64",
         "68",
         "1009",
         "1.53",
         "moderate rain",
         "3",
         "2"
        ],
        [
         "4",
         "Jakarta",
         "2025-05-21 06:00:00",
         "32.3",
         "65",
         "1007",
         "2.39",
         "moderate rain",
         "6",
         "2"
        ],
        [
         "5",
         "Jakarta",
         "2025-05-21 09:00:00",
         "29.84",
         "70",
         "1006",
         "2.84",
         "moderate rain",
         "9",
         "2"
        ],
        [
         "6",
         "Jakarta",
         "2025-05-21 12:00:00",
         "28.04",
         "81",
         "1008",
         "2.2",
         "moderate rain",
         "12",
         "2"
        ],
        [
         "7",
         "Jakarta",
         "2025-05-21 15:00:00",
         "27.62",
         "81",
         "1009",
         "1.88",
         "moderate rain",
         "15",
         "2"
        ],
        [
         "8",
         "Jakarta",
         "2025-05-21 18:00:00",
         "26.65",
         "85",
         "1008",
         "2.79",
         "light rain",
         "18",
         "2"
        ],
        [
         "9",
         "Jakarta",
         "2025-05-21 21:00:00",
         "26.21",
         "84",
         "1007",
         "1.95",
         "light rain",
         "21",
         "2"
        ],
        [
         "10",
         "Jakarta",
         "2025-05-22 00:00:00",
         "26.89",
         "79",
         "1008",
         "1.51",
         "overcast clouds",
         "0",
         "3"
        ],
        [
         "11",
         "Jakarta",
         "2025-05-22 03:00:00",
         "30.48",
         "62",
         "1009",
         "1.19",
         "broken clouds",
         "3",
         "3"
        ],
        [
         "12",
         "Jakarta",
         "2025-05-22 06:00:00",
         "31.21",
         "59",
         "1006",
         "3.1",
         "light rain",
         "6",
         "3"
        ],
        [
         "13",
         "Jakarta",
         "2025-05-22 09:00:00",
         "29.04",
         "72",
         "1006",
         "4.39",
         "moderate rain",
         "9",
         "3"
        ],
        [
         "14",
         "Jakarta",
         "2025-05-22 12:00:00",
         "27.61",
         "78",
         "1008",
         "3.97",
         "moderate rain",
         "12",
         "3"
        ],
        [
         "15",
         "Jakarta",
         "2025-05-22 15:00:00",
         "26.44",
         "84",
         "1009",
         "2.88",
         "light rain",
         "15",
         "3"
        ],
        [
         "16",
         "Jakarta",
         "2025-05-22 18:00:00",
         "26.32",
         "86",
         "1008",
         "2.41",
         "moderate rain",
         "18",
         "3"
        ],
        [
         "17",
         "Jakarta",
         "2025-05-22 21:00:00",
         "25.35",
         "88",
         "1007",
         "4.04",
         "light rain",
         "21",
         "3"
        ],
        [
         "18",
         "Jakarta",
         "2025-05-23 00:00:00",
         "25.75",
         "85",
         "1008",
         "2.59",
         "light rain",
         "0",
         "4"
        ],
        [
         "19",
         "Jakarta",
         "2025-05-23 03:00:00",
         "27.58",
         "78",
         "1008",
         "5.07",
         "light rain",
         "3",
         "4"
        ],
        [
         "20",
         "Jakarta",
         "2025-05-23 06:00:00",
         "27.47",
         "76",
         "1006",
         "7.53",
         "overcast clouds",
         "6",
         "4"
        ],
        [
         "21",
         "Jakarta",
         "2025-05-23 09:00:00",
         "28.01",
         "71",
         "1006",
         "8.21",
         "overcast clouds",
         "9",
         "4"
        ],
        [
         "22",
         "Jakarta",
         "2025-05-23 12:00:00",
         "27.08",
         "66",
         "1007",
         "6.46",
         "overcast clouds",
         "12",
         "4"
        ],
        [
         "23",
         "Jakarta",
         "2025-05-23 15:00:00",
         "26.6",
         "74",
         "1007",
         "5.55",
         "overcast clouds",
         "15",
         "4"
        ],
        [
         "24",
         "Jakarta",
         "2025-05-23 18:00:00",
         "26.55",
         "75",
         "1006",
         "2.09",
         "overcast clouds",
         "18",
         "4"
        ],
        [
         "25",
         "Jakarta",
         "2025-05-23 21:00:00",
         "26.04",
         "78",
         "1006",
         "2.85",
         "overcast clouds",
         "21",
         "4"
        ],
        [
         "26",
         "Jakarta",
         "2025-05-24 00:00:00",
         "26.22",
         "77",
         "1007",
         "1.47",
         "overcast clouds",
         "0",
         "5"
        ],
        [
         "27",
         "Jakarta",
         "2025-05-24 03:00:00",
         "27.55",
         "69",
         "1008",
         "1.14",
         "overcast clouds",
         "3",
         "5"
        ],
        [
         "28",
         "Jakarta",
         "2025-05-24 06:00:00",
         "32.37",
         "51",
         "1006",
         "1.09",
         "overcast clouds",
         "6",
         "5"
        ],
        [
         "29",
         "Jakarta",
         "2025-05-24 09:00:00",
         "33.17",
         "49",
         "1004",
         "2.95",
         "light rain",
         "9",
         "5"
        ],
        [
         "30",
         "Jakarta",
         "2025-05-24 12:00:00",
         "30.08",
         "68",
         "1006",
         "2.86",
         "light rain",
         "12",
         "5"
        ],
        [
         "31",
         "Jakarta",
         "2025-05-24 15:00:00",
         "28.32",
         "74",
         "1008",
         "2.77",
         "light rain",
         "15",
         "5"
        ],
        [
         "32",
         "Jakarta",
         "2025-05-24 18:00:00",
         "27.51",
         "78",
         "1008",
         "1.25",
         "light rain",
         "18",
         "5"
        ],
        [
         "33",
         "Jakarta",
         "2025-05-24 21:00:00",
         "26.89",
         "78",
         "1007",
         "1.39",
         "light rain",
         "21",
         "5"
        ],
        [
         "34",
         "Jakarta",
         "2025-05-25 00:00:00",
         "26.98",
         "74",
         "1008",
         "1.01",
         "overcast clouds",
         "0",
         "6"
        ],
        [
         "35",
         "Jakarta",
         "2025-05-25 03:00:00",
         "30.82",
         "57",
         "1008",
         "1.06",
         "broken clouds",
         "3",
         "6"
        ],
        [
         "36",
         "Jakarta",
         "2025-05-25 06:00:00",
         "33.28",
         "48",
         "1006",
         "1.86",
         "broken clouds",
         "6",
         "6"
        ],
        [
         "37",
         "Jakarta",
         "2025-05-25 09:00:00",
         "32.75",
         "52",
         "1005",
         "3.13",
         "light rain",
         "9",
         "6"
        ],
        [
         "38",
         "Jakarta",
         "2025-05-25 12:00:00",
         "30.3",
         "68",
         "1007",
         "2.45",
         "light rain",
         "12",
         "6"
        ],
        [
         "39",
         "Jakarta",
         "2025-05-25 15:00:00",
         "28.77",
         "75",
         "1008",
         "1.92",
         "broken clouds",
         "15",
         "6"
        ],
        [
         "40",
         "Bogor",
         "2025-05-20 18:00:00",
         "28.98",
         "78",
         "1009",
         "0.82",
         "broken clouds",
         "18",
         "1"
        ],
        [
         "41",
         "Bogor",
         "2025-05-20 21:00:00",
         "29.46",
         "87",
         "1009",
         "1.57",
         "broken clouds",
         "21",
         "1"
        ],
        [
         "42",
         "Bogor",
         "2025-05-21 00:00:00",
         "29.92",
         "88",
         "1010",
         "1.18",
         "light rain",
         "0",
         "2"
        ],
        [
         "43",
         "Bogor",
         "2025-05-21 03:00:00",
         "32.33",
         "74",
         "1010",
         "1.58",
         "light rain",
         "3",
         "2"
        ],
        [
         "44",
         "Bogor",
         "2025-05-21 06:00:00",
         "31.37",
         "78",
         "1008",
         "1.81",
         "moderate rain",
         "6",
         "2"
        ],
        [
         "45",
         "Bogor",
         "2025-05-21 09:00:00",
         "27.58",
         "82",
         "1007",
         "1.31",
         "moderate rain",
         "9",
         "2"
        ],
        [
         "46",
         "Bogor",
         "2025-05-21 12:00:00",
         "24.86",
         "93",
         "1010",
         "0.6",
         "moderate rain",
         "12",
         "2"
        ],
        [
         "47",
         "Bogor",
         "2025-05-21 15:00:00",
         "24.18",
         "95",
         "1011",
         "0.36",
         "moderate rain",
         "15",
         "2"
        ],
        [
         "48",
         "Bogor",
         "2025-05-21 18:00:00",
         "24.45",
         "93",
         "1009",
         "0.6",
         "moderate rain",
         "18",
         "2"
        ],
        [
         "49",
         "Bogor",
         "2025-05-21 21:00:00",
         "24.38",
         "90",
         "1008",
         "0.77",
         "light rain",
         "21",
         "2"
        ]
       ],
       "shape": {
        "columns": 9,
        "rows": 200
       }
      },
      "text/html": [
       "<div>\n",
       "<style scoped>\n",
       "    .dataframe tbody tr th:only-of-type {\n",
       "        vertical-align: middle;\n",
       "    }\n",
       "\n",
       "    .dataframe tbody tr th {\n",
       "        vertical-align: top;\n",
       "    }\n",
       "\n",
       "    .dataframe thead th {\n",
       "        text-align: right;\n",
       "    }\n",
       "</style>\n",
       "<table border=\"1\" class=\"dataframe\">\n",
       "  <thead>\n",
       "    <tr style=\"text-align: right;\">\n",
       "      <th></th>\n",
       "      <th>city</th>\n",
       "      <th>datetime</th>\n",
       "      <th>temp</th>\n",
       "      <th>humidity</th>\n",
       "      <th>pressure</th>\n",
       "      <th>wind_speed</th>\n",
       "      <th>weather_desc</th>\n",
       "      <th>hour</th>\n",
       "      <th>weekday</th>\n",
       "    </tr>\n",
       "  </thead>\n",
       "  <tbody>\n",
       "    <tr>\n",
       "      <th>0</th>\n",
       "      <td>Jakarta</td>\n",
       "      <td>2025-05-20 18:00:00</td>\n",
       "      <td>29.79</td>\n",
       "      <td>71</td>\n",
       "      <td>1009</td>\n",
       "      <td>2.04</td>\n",
       "      <td>broken clouds</td>\n",
       "      <td>18</td>\n",
       "      <td>1</td>\n",
       "    </tr>\n",
       "    <tr>\n",
       "      <th>1</th>\n",
       "      <td>Jakarta</td>\n",
       "      <td>2025-05-20 21:00:00</td>\n",
       "      <td>30.86</td>\n",
       "      <td>76</td>\n",
       "      <td>1008</td>\n",
       "      <td>1.58</td>\n",
       "      <td>light rain</td>\n",
       "      <td>21</td>\n",
       "      <td>1</td>\n",
       "    </tr>\n",
       "    <tr>\n",
       "      <th>2</th>\n",
       "      <td>Jakarta</td>\n",
       "      <td>2025-05-21 00:00:00</td>\n",
       "      <td>31.71</td>\n",
       "      <td>81</td>\n",
       "      <td>1009</td>\n",
       "      <td>1.40</td>\n",
       "      <td>light rain</td>\n",
       "      <td>0</td>\n",
       "      <td>2</td>\n",
       "    </tr>\n",
       "    <tr>\n",
       "      <th>3</th>\n",
       "      <td>Jakarta</td>\n",
       "      <td>2025-05-21 03:00:00</td>\n",
       "      <td>33.64</td>\n",
       "      <td>68</td>\n",
       "      <td>1009</td>\n",
       "      <td>1.53</td>\n",
       "      <td>moderate rain</td>\n",
       "      <td>3</td>\n",
       "      <td>2</td>\n",
       "    </tr>\n",
       "    <tr>\n",
       "      <th>4</th>\n",
       "      <td>Jakarta</td>\n",
       "      <td>2025-05-21 06:00:00</td>\n",
       "      <td>32.30</td>\n",
       "      <td>65</td>\n",
       "      <td>1007</td>\n",
       "      <td>2.39</td>\n",
       "      <td>moderate rain</td>\n",
       "      <td>6</td>\n",
       "      <td>2</td>\n",
       "    </tr>\n",
       "    <tr>\n",
       "      <th>...</th>\n",
       "      <td>...</td>\n",
       "      <td>...</td>\n",
       "      <td>...</td>\n",
       "      <td>...</td>\n",
       "      <td>...</td>\n",
       "      <td>...</td>\n",
       "      <td>...</td>\n",
       "      <td>...</td>\n",
       "      <td>...</td>\n",
       "    </tr>\n",
       "    <tr>\n",
       "      <th>195</th>\n",
       "      <td>Bekasi</td>\n",
       "      <td>2025-05-25 03:00:00</td>\n",
       "      <td>31.26</td>\n",
       "      <td>56</td>\n",
       "      <td>1008</td>\n",
       "      <td>1.00</td>\n",
       "      <td>broken clouds</td>\n",
       "      <td>3</td>\n",
       "      <td>6</td>\n",
       "    </tr>\n",
       "    <tr>\n",
       "      <th>196</th>\n",
       "      <td>Bekasi</td>\n",
       "      <td>2025-05-25 06:00:00</td>\n",
       "      <td>33.88</td>\n",
       "      <td>46</td>\n",
       "      <td>1006</td>\n",
       "      <td>1.79</td>\n",
       "      <td>broken clouds</td>\n",
       "      <td>6</td>\n",
       "      <td>6</td>\n",
       "    </tr>\n",
       "    <tr>\n",
       "      <th>197</th>\n",
       "      <td>Bekasi</td>\n",
       "      <td>2025-05-25 09:00:00</td>\n",
       "      <td>32.81</td>\n",
       "      <td>50</td>\n",
       "      <td>1005</td>\n",
       "      <td>3.35</td>\n",
       "      <td>scattered clouds</td>\n",
       "      <td>9</td>\n",
       "      <td>6</td>\n",
       "    </tr>\n",
       "    <tr>\n",
       "      <th>198</th>\n",
       "      <td>Bekasi</td>\n",
       "      <td>2025-05-25 12:00:00</td>\n",
       "      <td>30.65</td>\n",
       "      <td>63</td>\n",
       "      <td>1007</td>\n",
       "      <td>1.59</td>\n",
       "      <td>light rain</td>\n",
       "      <td>12</td>\n",
       "      <td>6</td>\n",
       "    </tr>\n",
       "    <tr>\n",
       "      <th>199</th>\n",
       "      <td>Bekasi</td>\n",
       "      <td>2025-05-25 15:00:00</td>\n",
       "      <td>29.01</td>\n",
       "      <td>73</td>\n",
       "      <td>1008</td>\n",
       "      <td>0.91</td>\n",
       "      <td>overcast clouds</td>\n",
       "      <td>15</td>\n",
       "      <td>6</td>\n",
       "    </tr>\n",
       "  </tbody>\n",
       "</table>\n",
       "<p>200 rows × 9 columns</p>\n",
       "</div>"
      ],
      "text/plain": [
       "        city             datetime   temp  humidity  pressure  wind_speed  \\\n",
       "0    Jakarta  2025-05-20 18:00:00  29.79        71      1009        2.04   \n",
       "1    Jakarta  2025-05-20 21:00:00  30.86        76      1008        1.58   \n",
       "2    Jakarta  2025-05-21 00:00:00  31.71        81      1009        1.40   \n",
       "3    Jakarta  2025-05-21 03:00:00  33.64        68      1009        1.53   \n",
       "4    Jakarta  2025-05-21 06:00:00  32.30        65      1007        2.39   \n",
       "..       ...                  ...    ...       ...       ...         ...   \n",
       "195   Bekasi  2025-05-25 03:00:00  31.26        56      1008        1.00   \n",
       "196   Bekasi  2025-05-25 06:00:00  33.88        46      1006        1.79   \n",
       "197   Bekasi  2025-05-25 09:00:00  32.81        50      1005        3.35   \n",
       "198   Bekasi  2025-05-25 12:00:00  30.65        63      1007        1.59   \n",
       "199   Bekasi  2025-05-25 15:00:00  29.01        73      1008        0.91   \n",
       "\n",
       "         weather_desc  hour  weekday  \n",
       "0       broken clouds    18        1  \n",
       "1          light rain    21        1  \n",
       "2          light rain     0        2  \n",
       "3       moderate rain     3        2  \n",
       "4       moderate rain     6        2  \n",
       "..                ...   ...      ...  \n",
       "195     broken clouds     3        6  \n",
       "196     broken clouds     6        6  \n",
       "197  scattered clouds     9        6  \n",
       "198        light rain    12        6  \n",
       "199   overcast clouds    15        6  \n",
       "\n",
       "[200 rows x 9 columns]"
      ]
     },
     "execution_count": 10,
     "metadata": {},
     "output_type": "execute_result"
    }
   ],
   "source": [
    "# Baca ulang file csv\n",
    "df = pd.read_csv('weather_jabodetabek_forecast.csv')\n",
    "df"
   ]
  },
  {
   "cell_type": "code",
   "execution_count": 11,
   "id": "6f0dd1e4",
   "metadata": {},
   "outputs": [
    {
     "name": "stdout",
     "output_type": "stream",
     "text": [
      "<class 'pandas.core.frame.DataFrame'>\n",
      "RangeIndex: 200 entries, 0 to 199\n",
      "Data columns (total 9 columns):\n",
      " #   Column        Non-Null Count  Dtype  \n",
      "---  ------        --------------  -----  \n",
      " 0   city          200 non-null    object \n",
      " 1   datetime      200 non-null    object \n",
      " 2   temp          200 non-null    float64\n",
      " 3   humidity      200 non-null    int64  \n",
      " 4   pressure      200 non-null    int64  \n",
      " 5   wind_speed    200 non-null    float64\n",
      " 6   weather_desc  200 non-null    object \n",
      " 7   hour          200 non-null    int64  \n",
      " 8   weekday       200 non-null    int64  \n",
      "dtypes: float64(2), int64(4), object(3)\n",
      "memory usage: 14.2+ KB\n"
     ]
    }
   ],
   "source": [
    "df.info() "
   ]
  },
  {
   "cell_type": "code",
   "execution_count": 12,
   "id": "5543909e",
   "metadata": {},
   "outputs": [],
   "source": [
    "# Fitur & Target\n",
    "X = df.drop(columns=['temp', 'datetime'])\n",
    "y = df['temp']"
   ]
  },
  {
   "cell_type": "code",
   "execution_count": 13,
   "id": "32365924",
   "metadata": {},
   "outputs": [],
   "source": [
    "# Train test split\n",
    "X_train, X_test, y_train, y_test = train_test_split(X, y, test_size=0.2, random_state=42)"
   ]
  },
  {
   "cell_type": "code",
   "execution_count": 14,
   "id": "31e9ad43",
   "metadata": {},
   "outputs": [
    {
     "name": "stdout",
     "output_type": "stream",
     "text": [
      "humidity: stat=0.9596, p=0.0000 → Tidak normal\n",
      "pressure: stat=0.9411, p=0.0000 → Tidak normal\n",
      "wind_speed: stat=0.8843, p=0.0000 → Tidak normal\n",
      "hour: stat=0.9254, p=0.0000 → Tidak normal\n",
      "weekday: stat=0.9219, p=0.0000 → Tidak normal\n"
     ]
    }
   ],
   "source": [
    "# Shapiro-Wilk test untuk uji distribusi normal pada data numerik (p-value > 0.05 berarti normal)\n",
    "for col in X.select_dtypes(include='number').columns:\n",
    "    data = X[col].dropna()\n",
    "    stat, p = shapiro(data)\n",
    "    print(f'{col}: stat={stat:.4f}, p={p:.4f} → {\"Normal\" if p > 0.05 else \"Tidak normal\"}')\n"
   ]
  },
  {
   "cell_type": "code",
   "execution_count": null,
   "id": "1f2c8a9c",
   "metadata": {},
   "outputs": [
    {
     "data": {
      "image/png": "[encoded data removed]",
      "text/plain": [
       "<Figure size 1800x500 with 3 Axes>"
      ]
     },
     "metadata": {},
     "output_type": "display_data"
    }
   ],
   "source": [
    "# Cek outlier pada data numerik\n",
    "fig, axes = plt.subplots(1, 3, figsize=(18, 5))  # 1 baris, 3 kolom\n",
    "\n",
    "sns.boxplot(x='humidity', ax=axes[0], data=df, orient='h')\n",
    "axes[0].set_title('Boxplot of Humidity')\n",
    "\n",
    "sns.boxplot(x='pressure', ax=axes[1], data=df, orient='h')\n",
    "axes[1].set_title('Boxplot of Pressure')\n",
    "\n",
    "sns.boxplot(x='wind_speed', ax=axes[2], data=df, orient='h')\n",
    "axes[2].set_title('Boxplot of Wind Speed')\n",
    "\n",
    "plt.tight_layout()\n",
    "plt.show()"
   ]
  },
  {
   "cell_type": "markdown",
   "id": "243c8bd6",
   "metadata": {},
   "source": [
    "Karena ada fitur yang punya outlier, maka RobustScaler jadi pilihan yang paling tepat agar lebih aman dan konsisten (outlier tidak dihapus karena masih dalam batas yang masuk akal, juga agar model tetap bisa memprediksi kasus ekstrem).\n",
    "\n",
    "Sedangkan pada fitur waktu seperti hour dan weekday, sifatnya siklikal (misal jam 23 dan 0 sebenarnya dekat secara waktu namun jauh secara angka). Model mungkin akan sulit menangkap pola siklikal ini, sehingga lebih baik jika mengubahnya ke siklikal menggunakan transformasi trigonometri (sin & cos)."
   ]
  },
  {
   "cell_type": "code",
   "execution_count": 16,
   "id": "dcdbd2f1",
   "metadata": {},
   "outputs": [],
   "source": [
    "# Ubah hour dan weekday ke bentuk trigonometri\n",
    "class CyclicalFeatures(BaseEstimator, TransformerMixin):\n",
    "    def __init__(self, hour_col='hour', weekday_col='weekday'):\n",
    "        self.hour_col = hour_col\n",
    "        self.weekday_col = weekday_col\n",
    "\n",
    "    def fit(self, X, y=None):\n",
    "        return self\n",
    "\n",
    "    def transform(self, X):\n",
    "        X_ = X.copy()\n",
    "        # Buat fitur siklikal untuk hour\n",
    "        X_['hour_sin'] = np.sin(2 * np.pi * X_[self.hour_col] / 24)\n",
    "        X_['hour_cos'] = np.cos(2 * np.pi * X_[self.hour_col] / 24)\n",
    "        # Buat fitur siklikal untuk weekday\n",
    "        X_['weekday_sin'] = np.sin(2 * np.pi * X_[self.weekday_col] / 7)\n",
    "        X_['weekday_cos'] = np.cos(2 * np.pi * X_[self.weekday_col] / 7)\n",
    "        # Drop kolom asli\n",
    "        return X_.drop(columns=[self.hour_col, self.weekday_col])"
   ]
  },
  {
   "cell_type": "code",
   "execution_count": 17,
   "id": "ce242324",
   "metadata": {},
   "outputs": [],
   "source": [
    "# Preprocessing dengan pipeline\n",
    "preprocessor = Pipeline([\n",
    "    ('cyclical', CyclicalFeatures()),\n",
    "    ('column_transform', ColumnTransformer([\n",
    "        ('num', RobustScaler(), ['humidity', 'pressure', 'wind_speed']),\n",
    "        ('cyclical_passthrough', 'passthrough', ['hour_sin', 'hour_cos', 'weekday_sin', 'weekday_cos']),\n",
    "        ('cat', OneHotEncoder(handle_unknown='ignore'), ['city', 'weather_desc'])\n",
    "    ]))\n",
    "])"
   ]
  },
  {
   "cell_type": "code",
   "execution_count": 18,
   "id": "4c477417",
   "metadata": {},
   "outputs": [
    {
     "name": "stdout",
     "output_type": "stream",
     "text": [
      "               Model  RMSE Mean  RMSE Std  MAE Mean  MAE Std  R2 Mean  R2 Std\n",
      "3      Random Forest      0.911     0.150     0.635    0.079    0.889   0.029\n",
      "4            XGBoost      0.988     0.193     0.656    0.071    0.868   0.046\n",
      "0  Linear Regression      1.049     0.101     0.791    0.071    0.853   0.018\n",
      "1                KNN      1.142     0.206     0.845    0.138    0.821   0.059\n",
      "2      Decision Tree      1.353     0.333     0.874    0.211    0.749   0.111\n"
     ]
    }
   ],
   "source": [
    "# Benchmarking Model pada data train \n",
    "lr = LinearRegression()\n",
    "knn = KNeighborsRegressor()\n",
    "dt = DecisionTreeRegressor(random_state=1)\n",
    "rf = RandomForestRegressor(random_state=1)\n",
    "xgb = XGBRegressor(random_state=1)\n",
    "\n",
    "def evaluate_models(X, y, models, model_names, preprocessor= preprocessor, n_splits=5, random_state=42):\n",
    "\n",
    "    metrics = ['neg_root_mean_squared_error', 'neg_mean_absolute_error', 'r2']\n",
    "    metric_names = ['RMSE', 'MAE', 'R2']\n",
    "\n",
    "    results = []\n",
    "\n",
    "    cv = KFold(n_splits=n_splits, shuffle=True, random_state=random_state)\n",
    "\n",
    "    for model, name in zip(models, model_names):\n",
    "        pipeline = Pipeline([\n",
    "            ('preprocessor', preprocessor),\n",
    "            ('model', model)\n",
    "        ])\n",
    "\n",
    "        row = {'Model': name}\n",
    "\n",
    "        for metric, mname in zip(metrics, metric_names):\n",
    "            scores = cross_val_score(pipeline, X, y, cv=cv, scoring=metric)\n",
    "            if metric.startswith('neg_'):\n",
    "                scores = -scores\n",
    "            row[f'{mname} Mean'] = np.mean(scores)\n",
    "            row[f'{mname} Std'] = np.std(scores)\n",
    "\n",
    "        results.append(row)\n",
    "\n",
    "    return pd.DataFrame(results)\n",
    "\n",
    "models = [lr, knn, dt, rf, xgb]\n",
    "model_names = ['Linear Regression', 'KNN', 'Decision Tree', 'Random Forest', 'XGBoost']\n",
    "\n",
    "df_eval = evaluate_models(X_train, y_train, models, model_names, preprocessor=preprocessor).round(3).sort_values(by='RMSE Mean', ascending=True)\n",
    "print(df_eval)"
   ]
  },
  {
   "cell_type": "markdown",
   "id": "06186a20",
   "metadata": {},
   "source": [
    "Berdasarkan hasil evaluasi benchmarking model pada data train menggunakan cross-validation, Random Forest menunjukkan performa terbaik dengan akurasi tinggi dan variasi performa yang rendah. Oleh karena itu, model ini dipilih untuk digunakan dalam proses prediksi pada data test."
   ]
  },
  {
   "cell_type": "code",
   "execution_count": 19,
   "id": "ec12368c",
   "metadata": {},
   "outputs": [
    {
     "name": "stdout",
     "output_type": "stream",
     "text": [
      "RMSE: 0.6324931962084688\n",
      "MAE: 0.501652500000003\n",
      "R²: 0.9413343126525601\n"
     ]
    }
   ],
   "source": [
    "# Prediksi ke data test\n",
    "pipeline = Pipeline([\n",
    "    ('preprocessor', preprocessor),\n",
    "    ('model', rf)\n",
    "])\n",
    "pipeline.fit(X_train, y_train) # fit ulang di seluruh data training\n",
    "y_pred = pipeline.predict(X_test)\n",
    "\n",
    "print(\"RMSE:\", np.sqrt(mean_squared_error(y_test, y_pred)))\n",
    "print(\"MAE:\", mean_absolute_error(y_test, y_pred))\n",
    "print(\"R²:\", r2_score(y_test, y_pred))"
   ]
  },
  {
   "cell_type": "markdown",
   "id": "4b3b5276",
   "metadata": {},
   "source": [
    "Hasil evaluasi :\n",
    "- RMSE: 0.632 → prediksi suhu rata-rata meleset sekitar 0.63 derajat Celcius\n",
    "- MAE: 0.501 → rata-rata deviasi absolut dari suhu aktual sekitar 0.5 derajat Celcius\n",
    "- R²: 0.941 → sekitar 94% variasi suhu bisa dijelaskan oleh fitur dalam model\n",
    "\n",
    "Hasil ini menunjukkan bahwa model yang dilatih sudah cukup akurat (RMSE dan MAE dibawah 1 derajat Celcius), mampu generalisasi dengan baik (R² tinggi di data test), dan cukup stabil karena mirip dengan hasil di data train. "
   ]
  },
  {
   "cell_type": "code",
   "execution_count": 26,
   "id": "defc56b1",
   "metadata": {},
   "outputs": [
    {
     "name": "stdout",
     "output_type": "stream",
     "text": [
      "Best parameters: {'model__bootstrap': False, 'model__max_depth': None, 'model__max_features': 'sqrt', 'model__min_samples_leaf': 1, 'model__min_samples_split': 2, 'model__n_estimators': 200}\n",
      "Test RMSE: 0.5070900826036701\n",
      "Test MAE: 0.38203999999999744\n",
      "Test R²: 0.962291202705369\n"
     ]
    }
   ],
   "source": [
    "# Hyperparameter Tuning (dicoba lebih dulu di data train untuk memilih hyperparameter)\n",
    "pipeline = Pipeline([\n",
    "    ('preprocessor', preprocessor),\n",
    "    ('model', rf)\n",
    "])\n",
    "param_grid = {\n",
    "    'model__n_estimators': [100, 200],         # jumlah pohon\n",
    "    'model__max_depth': [None, 10, 20],        # kedalaman pohon\n",
    "    'model__min_samples_split': [2, 5],        # minimal sample untuk split\n",
    "    'model__min_samples_leaf': [1, 2],         # minimal sample di daun\n",
    "    'model__max_features': ['sqrt', 'log2'],   # jumlah fitur tiap split\n",
    "    'model__bootstrap': [True, False]          # bootstrap samples\n",
    "}\n",
    "grid_search = GridSearchCV(pipeline, param_grid, cv=5, scoring='neg_mean_squared_error', n_jobs=-1)\n",
    "grid_search.fit(X_train, y_train)\n",
    "print(\"Best parameters:\", grid_search.best_params_)\n",
    "\n",
    "best_model = grid_search.best_estimator_\n",
    "y_pred_tuning = best_model.predict(X_test)\n",
    "\n",
    "print(\"Test RMSE:\", np.sqrt(mean_squared_error(y_test, y_pred_tuning)))\n",
    "print(\"Test MAE:\", mean_absolute_error(y_test, y_pred_tuning))\n",
    "print(\"Test R²:\", r2_score(y_test, y_pred_tuning))"
   ]
  },
  {
   "cell_type": "markdown",
   "id": "5f1c3a5f",
   "metadata": {},
   "source": [
    "| **Metrik**   | **Sebelum Tuning** | **Setelah Tuning** |\n",
    "| ------------ | ------------------ | ------------------ |\n",
    "| **RMSE**     | 0.632             | 0.507             |\n",
    "| **MAE**      | 0.501             | 0.382             |\n",
    "| **R² Score** | 0.941             | 0.962             |\n",
    "\n",
    "Berdasarkan hasil tersebut, tuning berhasil meningkatkan performa model secara signifikan, sehingga hasil model setelah tuning yang jadi model finalnya."
   ]
  },
  {
   "cell_type": "code",
   "execution_count": 27,
   "id": "4fc956a8",
   "metadata": {},
   "outputs": [
    {
     "data": {
      "image/png": "[encoded data removed]",
      "text/plain": [
       "<Figure size 800x500 with 1 Axes>"
      ]
     },
     "metadata": {},
     "output_type": "display_data"
    }
   ],
   "source": [
    "# Visualisasi residual plot\n",
    "residuals = y_test - y_pred_tuning\n",
    "\n",
    "plt.figure(figsize=(8,5))\n",
    "sns.scatterplot(x=y_pred_tuning, y=residuals)\n",
    "plt.axhline(0, color='red', linestyle='--')\n",
    "plt.xlabel(\"Predicted Values\")\n",
    "plt.ylabel(\"Residuals\")\n",
    "plt.title(\"Residual Plot\")\n",
    "plt.show()"
   ]
  },
  {
   "cell_type": "markdown",
   "id": "6fe188a9",
   "metadata": {},
   "source": [
    "Kesimpulan :\n",
    "- Titik residual tersebar acak, kebanyakan di sekitar garis horizontal (residual=0), dan tidak terlihat ada pola khusus yang terbentuk. Model tidak melewatkan pola penting.\n",
    "- Variasi residual cenderung konsisten, penyebaran residual tidak banyak berubah seiring naiknya nilai prediksi. Artinya, tidak ada indikasi kuat akan heteroskedastisitas (variasi error yang berubah-ubah). Model cukup stabil.\n",
    "- Ada beberapa outlier yang agak jauh dr garis nol (<-1), namun jumlahnya sangat kecil dan tidak mempengaruhi model secara signifikan, terutama karena model yang digunakan adalah Random Forest. Selain itu, outlier ini mewakili fenomena asli, sehingga tidak perlu dihapus maupun diubah."
   ]
  },
  {
   "cell_type": "code",
   "execution_count": 31,
   "id": "3fd4b3ab",
   "metadata": {},
   "outputs": [
    {
     "data": {
      "image/png": "[encoded data removed]",
      "text/plain": [
       "<Figure size 1000x600 with 1 Axes>"
      ]
     },
     "metadata": {},
     "output_type": "display_data"
    }
   ],
   "source": [
    "# Feature Importance\n",
    "column_transformer = preprocessor.named_steps['column_transform']\n",
    "rf_model = best_model.named_steps['model']\n",
    "\n",
    "num_features = ['humidity', 'pressure', 'wind_speed']\n",
    "cat_features = ['city', 'weather_desc']\n",
    "cyclical_features = ['hour_sin', 'hour_cos', 'weekday_sin', 'weekday_cos']  # sudah hasil akhir dari CyclicalFeatures\n",
    "\n",
    "num_out = column_transformer.named_transformers_['num'].get_feature_names_out(num_features)\n",
    "cat_out = column_transformer.named_transformers_['cat'].get_feature_names_out(cat_features)\n",
    "cyclical_out = cyclical_features  # karena 'passthrough', nama tetap\n",
    "\n",
    "all_features = list(num_out) + list(cyclical_out) + list(cat_out)\n",
    "\n",
    "feat_importance = pd.DataFrame({\n",
    "    'Feature': all_features,\n",
    "    'Importance': rf_model.feature_importances_\n",
    "}).sort_values(by='Importance', ascending=False)\n",
    "\n",
    "plt.figure(figsize=(10, 6))\n",
    "bars = plt.barh(feat_importance['Feature'], feat_importance['Importance'], color='skyblue')\n",
    "plt.xlabel('Feature Importance')\n",
    "plt.title('Random Forest Feature Importance')\n",
    "plt.gca().invert_yaxis()  # agar fitur paling penting di atas\n",
    "\n",
    "for bar in bars:\n",
    "    width = bar.get_width()\n",
    "    plt.text(width + 0.002, bar.get_y() + bar.get_height()/2,\n",
    "             f'{width:.3f}', va='center')\n",
    "\n",
    "plt.tight_layout()\n",
    "plt.show()"
   ]
  },
  {
   "cell_type": "markdown",
   "id": "bd9393f5",
   "metadata": {},
   "source": [
    "Berdasarkan grafik, kelembaban adalah fitur terpenting. Faktor waktu (jam, hari) dan tekanan juga sangat berpengaruh. Sementara itu, kota dan detail deskripsi cuaca kurang penting dalam model ini."
   ]
  },
  {
   "cell_type": "markdown",
   "id": "cc0cd0ba",
   "metadata": {},
   "source": [
    "#### Kesimpulan\n",
    "\n",
    "Berdasarkan analisis dan pembangunan model prediksi suhu harian menggunakan data iklim, dapat disimpulkan bahwa:\n",
    "- Model Random Forest yang dibangun berhasil memprediksi suhu harian dengan sangat baik, ditunjukkan oleh nilai RMSE 0.5071 dan MAE 0.3820 setelah tuning, serta R² sebesar 0.9623 pada data test. Ini menunjukkan model mampu menjelaskan lebih dari 96% variasi suhu berdasarkan fitur iklim yang tersedia.\n",
    "- Residual plot menunjukkan distribusi residual yang acak dan tidak ada pola khusus, menandakan model tidak melewatkan pola penting dan cukup stabil tanpa indikasi heteroskedastisitas.\n",
    "- Outlier yang muncul merupakan fenomena nyata dan jumlahnya kecil sehingga tidak mengganggu performa model.\n",
    "- Fitur kelembaban menjadi faktor paling signifikan dalam memprediksi suhu, diikuti oleh variabel waktu (jam, hari) dan tekanan udara. Sedangkan fitur kategori seperti kota dan deskripsi cuaca memberikan kontribusi yang lebih kecil.\n",
    "\n",
    "Dengan performa prediksi yang akurat dan stabil, model ini sangat dapat diandalkan untuk mendukung keputusan perencanaan acara pernikahan oleh Anita Weddings.\n",
    "\n",
    "#### Rekomendasi\n",
    "\n",
    "Berdasarkan hasil dan kesimpulan yang diperoleh, berikut adalah rekomendasi untuk Anita Weddings:\n",
    "- Pemanfaatan Prediksi Suhu untuk Pengambilan Keputusan Lokasi :\n",
    "    - Gunakan prediksi suhu harian sebagai dasar utama dalam merekomendasikan lokasi acara (indoor atau outdoor) kepada klien. Misalnya, jika suhu diprediksi tinggi, rekomendasi untuk acara indoor atau outdoor dengan tenda ber-AC dapat diberikan.\n",
    "    - Integrasikan hasil prediksi ke dalam proses konsultasi awal dengan klien untuk memberikan saran yang lebih informatif dan berbasis data.\n",
    "\n",
    "- Optimalisasi Persiapan Perlengkapan :\n",
    "    - Manfaatkan prediksi suhu untuk menentukan kebutuhan perlengkapan tambahan seperti kipas angin, air cooler, atau pemanas ruangan agar kenyamanan tamu tetap terjaga dan acara berjalan lancar meskipun terjadi perubahan suhu ekstrim.\n",
    "\n",
    "- Integrasi Sistem :\n",
    "    - Pertimbangkan untuk mengintegrasikan model prediksi ini ke dalam sistem perencanaan atau dashboard internal Anita Weddings. Hal ini akan memudahkan tim untuk mengakses dan menggunakan data prediksi secara real-time.\n",
    "    - Automatisasi pengambilan data iklim dari API dan feeding ke model untuk mendapatkan prediksi terbaru secara berkala.\n",
    "\n",
    "- Monitoring dan Pemeliharaan Model:\n",
    "    - Lakukan monitoring berkala terhadap performa model di lapangan. Bandingkan prediksi dengan suhu aktual setelah acara berlangsung untuk memastikan akurasi tetap terjaga.\n",
    "    - Jadwalkan retraining model secara berkala (misalnya setiap 6-12 bulan) dengan data terbaru untuk memastikan model tetap relevan dengan perubahan pola iklim yang mungkin terjadi.\n",
    "\n",
    "- Eksplorasi Fitur Tambahan:\n",
    "    - Meskipun fitur yang ada sudah cukup baik, eksplorasi lebih lanjut terhadap fitur lain seperti indeks UV, visibilitas, atau data polusi udara dapat dipertimbangkan jika relevan dengan kenyamanan acara dan tersedia datanya.\n",
    "    - Pertimbangkan untuk menambahkan fitur kalender khusus (misalnya, hari libur nasional, musim liburan) yang mungkin memengaruhi pola suhu atau preferensi acara.\n",
    "\n",
    "Dengan mengimplementasikan rekomendasi ini, Anita Weddings dapat meningkatkan efisiensi operasional, mengurangi risiko gangguan acara akibat cuaca, dan pada akhirnya meningkatkan kepuasan klien dengan perencanaan yang lebih matang dan adaptif."
   ]
  },
  {
   "cell_type": "code",
   "execution_count": 23,
   "id": "6a658143",
   "metadata": {},
   "outputs": [
    {
     "name": "stdout",
     "output_type": "stream",
     "text": [
      "Model terbaik hasil tuning berhasil disimpan ke 'best_model_random_forest.pkl'!\n"
     ]
    }
   ],
   "source": [
    "# Save model\n",
    "\n",
    "with open('best_model_random_forest.pkl', 'wb') as f:\n",
    "    pickle.dump(best_model, f)\n",
    "\n",
    "print(\"Model terbaik hasil tuning berhasil disimpan ke 'best_model_random_forest.pkl'!\")"
   ]
  },
  {
   "cell_type": "code",
   "execution_count": 24,
   "id": "c9f132dd",
   "metadata": {},
   "outputs": [],
   "source": [
    "# # Untuk memuat kembali model\n",
    "# with open('best_model_random_forest.pkl', 'rb') as f:\n",
    "#     loaded_model = pickle.load(f)\n",
    "\n",
    "# # Contoh prediksi setelah load model\n",
    "# y_loaded_pred = loaded_model.predict(X_test)\n",
    "# print(\"Prediksi dari model yang dimuat kembali berhasil dilakukan!\")"
   ]
  }
 ],
 "metadata": {
  "kernelspec": {
   "display_name": "base",
   "language": "python",
   "name": "python3"
  },
  "language_info": {
   "codemirror_mode": {
    "name": "ipython",
    "version": 3
   },
   "file_extension": ".py",
   "mimetype": "text/x-python",
   "name": "python",
   "nbconvert_exporter": "python",
   "pygments_lexer": "ipython3",
   "version": "3.12.7"
  }
 },
 "nbformat": 4,
 "nbformat_minor": 5
}
